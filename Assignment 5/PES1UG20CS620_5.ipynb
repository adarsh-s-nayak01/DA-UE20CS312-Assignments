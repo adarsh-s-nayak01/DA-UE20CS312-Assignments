{
 "cells": [
  {
   "cell_type": "markdown",
   "metadata": {
    "id": "c6sJ6BEOzkKN"
   },
   "source": [
    "# PES University, Bangalore\n",
    "Established under Karnataka Act No. 16 of 2013"
   ]
  },
  {
   "cell_type": "markdown",
   "metadata": {
    "id": "mOlFr-Yjzoxl"
   },
   "source": [
    "UE20CS312 - Data Analytics - Worksheet 5\n",
    "Course instructor: Gowri Srinivasa, Professor Dept. of CSE, PES University\n",
    "\n",
    "Designed by Yashas Kadambi, Dept. of CSE - yashasks@pesu.pes.edu\n",
    "\n",
    "\n",
    "\n",
    "# NAME : Adarsh Subhas Nayak\n",
    "# SRN:PES1UG20CS620"
   ]
  },
  {
   "cell_type": "markdown",
   "metadata": {
    "id": "_GsPyyRnEXzY"
   },
   "source": [
    "# Markov Chains and AB Testing"
   ]
  },
  {
   "cell_type": "markdown",
   "metadata": {
    "id": "a_2sqyzBD8qS"
   },
   "source": [
    "### Prerequisites\n",
    "- Revise the following concepts\n",
    "    - Markov Chains\n",
    "    - Markov Chains with Absorbing states\n",
    "    - Calculation of eventual probability of aborbtion\n",
    "    - A/B Testing\n",
    "- Install the following software\n",
    "    - pandas\n",
    "    - numpy"
   ]
  },
  {
   "cell_type": "markdown",
   "metadata": {
    "id": "RAkRls2vElow"
   },
   "source": [
    "### Points\n",
    "The problems in this worksheet are for a total of 10 points with each problem having a different weightage.\n",
    "- Problem 1: 2 points\n",
    "- Problem 2: 4 points\n",
    "- Problem 3: 4 points"
   ]
  },
  {
   "cell_type": "markdown",
   "metadata": {
    "id": "85iOffRu2nhi"
   },
   "source": [
    "# Scenario 2\n",
    "\n",
    "Its a freezing day in New york, Commisioner Wench has sent a report to Captain Holt that the 99th precinct has much lower reported crimes compared to other precincts. Upon Analysis Captain Holt decides to add feedback unit along with the 4 major units to analyse this descripency. All the units are mentioned below\n",
    "\n",
    "1.   Major Crimes\n",
    "2.   Traffic\n",
    "3.   General crimes\n",
    "4.   Feedback\n",
    "5.   Theft\n",
    "\n",
    "---\n",
    "---\n",
    "<br>\n",
    "\n",
    "The initial probablity of a person going to a particular unit on a particular day is given as follows\n",
    "\n",
    "\n",
    "<br>\n",
    "\n",
    "Major Crimes | Traffic | General crimes | Feedback | Theft\n",
    ":----------: | :-----: | :------------: | :--------: | :---:\n",
    "0.3 | 0.4 | 0.1 | 0.15 | 0.05 \n",
    "<br>\n",
    "\n",
    "\n",
    "To measure how many people will go to the feedback unit, the personel files of all employees are give to the **_Move-o-Tron 99_** and it gives us the following matrix which shows us the probability of people moving from one unit to another on a particular day . It is known that the **_Move-o-Tron 99_** alwasy outputs matices which follow a first order Markov chain. \n",
    "\n",
    "| |Major Crimes|Traffic|General crimes|Feedback|Theft|\n",
    "|---|---|---|---|---|---|\n",
    "|Major Crimes|0\\.002|0\\.666|0\\.31|0\\.0|0\\.022|\n",
    "|Traffic|0\\.466|0\\.102|0\\.222|0\\.0|0\\.21|\n",
    "|General crimes|0\\.022|0\\.11|0\\.502|0\\.0|0\\.366|\n",
    "|Feedback|0\\.0|0\\.0|0\\.0|1\\.0|0\\.0|\n",
    "|Theft|0\\.11|0\\.122|0\\.066|0\\.0|0\\.702|\n",
    "\n",
    "As the people of New York are smart the will learn where all the units are present and hence the next days (day 1) distribution will be the distribution present at the end of the current day (day 0). Captain holt want to check if the matrix given by the **_Move-o-Tron_** can be used to model the footfall.\n",
    "\n"
   ]
  },
  {
   "cell_type": "markdown",
   "metadata": {
    "id": "huFKsPfVqWJC"
   },
   "source": [
    "## Problem 1 (2 points)\n",
    "\n",
    "1. What technique can be used to model the probability of people going to the correct unit to report thier crime after N days? (0 points)\n",
    "2. Is the chain irreducible? Justify (0.5 point)\n",
    "3. What will be the intital probability of a person going to a particular unit after 1 day, 2 days, 10 days, 1000 days and 1001 days. (1 point)\n",
    " \n",
    " Hint: Use the  Chapman−Kolmogorov relationship\n",
    "\n",
    "     ```python\n",
    "    # C = A.B\n",
    "    matrix_C = np.dot(matrix_A, matrix_B)\n",
    "\n",
    "    # C = A.(B^4) can be replaced by\n",
    "    matrix_C = matrix_A\n",
    "    for _ in range(4):\n",
    "        matrix_C = np.dot(matrix_C, matrix_B)\n",
    "    ```\n",
    "\n",
    "4. What can you say about the markov chain from state of intital probability of a person going to a particular unit after 1000 and 1001 days? (0.5 points)"
   ]
  },
  {
   "cell_type": "code",
   "execution_count": 1,
   "metadata": {
    "id": "suNEfAXfy9dA"
   },
   "outputs": [],
   "source": [
    "# Importing Libraries\n",
    "%matplotlib inline\n",
    "import numpy as np\n",
    "import pandas as pd\n",
    "import matplotlib.pyplot as plt\n"
   ]
  },
  {
   "cell_type": "code",
   "execution_count": 2,
   "metadata": {
    "id": "UbQTk1ZMPyNq"
   },
   "outputs": [],
   "source": [
    "# encoding the probabilities as a numpy array\n",
    "trans_array = np.array([\n",
    "    [0.002, 0.666, 0.31, 0, 0.022],\n",
    "    [0.466, 0.102, 0.222, 0, 0.21],\n",
    "    [0.022, 0.11, 0.502, 0, 0.366],\n",
    "    [0, 0, 0, 1, 0],\n",
    "    [0.11, 0.122, 0.066, 0, 0.702]\n",
    "])\n",
    "# ensures that the probabilities sum to 1\n",
    "assert(trans_array[0].sum() == 1.0)\n",
    "assert(trans_array[1].sum() == 1.0)\n",
    "assert(trans_array[2].sum() == 1.0)\n",
    "assert(trans_array[3].sum() == 1.0)\n",
    "assert(trans_array[4].sum() == 1.0)\n",
    "\n",
    "\n",
    "\n",
    "# encoding the initial probability of as a numpy array\n",
    "state = np.array([[0.3, 0.4, 0.1, 0.15, 0.05]])\n",
    "assert(state[0].sum() == 1.0)"
   ]
  },
  {
   "cell_type": "code",
   "execution_count": 8,
   "metadata": {
    "colab": {
     "base_uri": "https://localhost:8080/",
     "height": 0
    },
    "id": "MQ17ZpX8ZBGG",
    "outputId": "bab22ad3-2481-49a4-e246-5c031cefad9a"
   },
   "outputs": [
    {
     "name": "stdout",
     "output_type": "stream",
     "text": [
      "QUESTION 01 :  MARKOV CHAIN \n",
      "Question 02:   No, Its reducable if and only if there are two or more communication classes.\n",
      "QUESTION 03\n",
      " state after 1days : [0.1947 0.2577 0.2353 0.15   0.1623]\n",
      " state after 1days : [0.1435072 0.2016392 0.2463988 0.15      0.2584548]\n",
      " state after 10days : [0.12139467 0.16406836 0.1973962  0.15       0.36714077]\n",
      " state after 1000days : [0.1214373  0.16411091 0.19739717 0.15       0.36705462]\n",
      " state after 1001days : [0.1214373  0.16411091 0.19739717 0.15       0.36705462]\n",
      "QUESTION 04\n",
      "After looking at the states after 1000 days and 1001 days ... one can notice zero difference/change in probability distribution.So therefore represents Stationary probability distribution!!\n"
     ]
    }
   ],
   "source": [
    "\n",
    "print(\" 01 :  MARKOV CHAIN \")\n",
    "\n",
    "print(\" 02:   No, Its reducable if and only if there are two or more communication classes.\")\n",
    "\n",
    "print(\"3:\")\n",
    "state_one=np.dot(state, trans_array)\n",
    "print(f' state after 1day : {state_one.squeeze()}')\n",
    "#After 2 day\n",
    "state_two=np.dot(state_one, trans_array)\n",
    "print(f' state after 1day : {state_two.squeeze()}')\n",
    "#After 10 days\n",
    "state_10 = state\n",
    "for _ in range(10):\n",
    "  state_10 = np.dot(state_10, trans_array)\n",
    "print(f' state after 10days : {state_10.squeeze()}')\n",
    "#After 1000days\n",
    "state_1000 = state\n",
    "for _ in range(1000):\n",
    "  state_1000 = np.dot(state_1000, trans_array)\n",
    "print(f' state after 1000days : {state_1000.squeeze()}')\n",
    "#After 1001 days\n",
    "state_1001=np.dot(state_1000,trans_array)\n",
    "print(f' state after 1001days : {state_1001.squeeze()}')\n",
    "\n",
    "print('QUESTION 04')\n",
    "print('After looking at the states after 1000 days and 1001 days ... one can notice zero difference/change in probability distribution.So therefore represents Stationary probability distribution!!')"
   ]
  },
  {
   "cell_type": "markdown",
   "metadata": {
    "id": "sf_CCUyONV-f"
   },
   "source": [
    "---\n",
    "\n",
    "After analysing the model Captain holt calls the squad and educates them to ask people to give feedbacks. And the details of the squad are given to the **_Move-o-Tron 99_**. After reanalyising the report the **_Move-o-Tron 99_** gave out a new Matrix, which is shown below\n",
    "\n",
    "| |Major Crimes|Traffic|General crimes|Feedback|Theft|\n",
    "|---|---|---|---|---|---|\n",
    "|Major Crimes|0\\.002|0\\.666|0\\.01|0\\.02|0\\.302|\n",
    "|Traffic|0\\.466|0\\.102|0\\.02|0\\.032|0\\.38|\n",
    "|General crimes|0\\.0|0\\.0|1\\.0|0\\.0|0\\.0|\n",
    "|Feedback|0\\.0|0\\.0|0\\.0|1\\.0|0\\.0|\n",
    "|Theft|0\\.11|0\\.122|0\\.066|0\\.004|0\\.698|\n",
    "\n",
    "<br>\n",
    "Considering the new report the model has to be re-evaluated. The initial probablity of a person going to a particular unit on a particular day remains the same.\n",
    "<br>\n",
    "\n",
    "\n",
    "\n"
   ]
  },
  {
   "cell_type": "markdown",
   "metadata": {
    "id": "bVIGVQhMUthf"
   },
   "source": [
    "## Problem 2 (4 points)\n",
    "\n",
    "\n",
    "1. Is the chain irreducible? Justify (0.5 point)\n",
    "2. What will be the intital probability of a person going to a particular unit after 1 day, 2 days, 10 days, 1000 days and 1001 days. (1 point)\n",
    " \n",
    " Hint: Use the  Chapman−Kolmogorov relationship\n",
    "\n",
    "3. What can you say about the markov chain from state of intital probability of a person going to a particular unit after 1000 and 1001 days? (0.5 points)\n",
    "\n",
    "\n",
    "4. Summer Edgecombe is Confidential Informant (CI) to the Officer Kimbal Cho and comes in every day to the police station. If on the first day she goes to the Major crimes Unit what will be the probability that she gives a feedback? (2 points)\n",
    "\n",
    "    ```python\n",
    "    # np.delete()\n",
    "    # https://note.nkmk.me/en/python-numpy-delete/#:~:text=Using%20the%20NumPy%20function%20np,from%20the%20NumPy%20array%20ndarray%20.&text=Specify%20the%20axis%20(dimension)%20and,a%20slice%20or%20a%20list.\n",
    "\n",
    "    print(a)\n",
    "    # [[ 0  1  2  3]\n",
    "    #  [ 4  5  6  7]\n",
    "    #  [ 8  9 10 11]]\n",
    "\n",
    "    print(np.delete(a, 1, 0))\n",
    "    # [[ 0  1  2  3]\n",
    "    #  [ 8  9 10 11]]\n",
    "\n",
    "    print(np.delete(a, 1, 1))\n",
    "    # [[ 0  2  3]\n",
    "    #  [ 4  6  7]\n",
    "    #  [ 8 10 11]]\n",
    "\n",
    "    # Deleting multiple rows or columns\n",
    "    print(np.delete(a, [0, 3], 1))\n",
    "    # [[ 1  2]\n",
    "    #  [ 5  6]\n",
    "    #  [ 9 10]]\n",
    "\n",
    "    # Deleting rows and columns\n",
    "    print(np.delete(np.delete(a, 1, 0), 1, 1))\n",
    "    # [[ 0  2  3]\n",
    "    #  [ 8 10 11]]\n",
    "\n",
    "    # matrix multiplication or cross pdt C = A*B\n",
    "    matrix_C = matrix_A @ matrix_B # matrix_C = np.matmul(matrix_A, matrix_B)\n",
    "\n",
    "    ```"
   ]
  },
  {
   "cell_type": "code",
   "execution_count": 3,
   "metadata": {
    "id": "7cO2IP4BL3PC"
   },
   "outputs": [],
   "source": [
    "# encoding the probabilities as a numpy array\n",
    "trans_array = np.array([\n",
    "    [0.002, 0.666, 0.01, 0.020, 0.302],\n",
    "    [0.466, 0.102, 0.02, 0.032, 0.38],\n",
    "    [0.0, 0.0, 1, 0.0, 0.0],\n",
    "    [0, 0, 0, 1, 0],\n",
    "    [0.11, 0.122, 0.066, 0.004, 0.698]\n",
    "])\n",
    "\n",
    "# ensures that the probabilities sum to 1\n",
    "assert(trans_array[0].sum() == 1.0)\n",
    "assert(trans_array[1].sum() == 1.0)\n",
    "assert(trans_array[2].sum() == 1.0)\n",
    "assert(trans_array[3].sum() == 1.0)\n",
    "assert(trans_array[4].sum() == 1.0)\n",
    "\n",
    "# encoding the initial probability of as a numpy array\n",
    "state = np.array([[0.3, 0.4, 0.1, 0.15, 0.05]])\n",
    "assert(state[0].sum() == 1.0)\n"
   ]
  },
  {
   "cell_type": "code",
   "execution_count": 19,
   "metadata": {
    "colab": {
     "base_uri": "https://localhost:8080/",
     "height": 0
    },
    "id": "rnkByqVcb64G",
    "outputId": "1ebe692c-0cc3-4070-945c-1adbfc39d5c8"
   },
   "outputs": [
    {
     "name": "stdout",
     "output_type": "stream",
     "text": [
      "QUESTION 01\n",
      "no its not reducable as feedbak unit ot general crimes unit isnt accessable.\n",
      "QUESTION 02\n",
      " state after 1days : [0.1925 0.2467 0.1143 0.169  0.2775]\n",
      " state after 1days : [0.1458722 0.1872234 0.139474  0.1818544 0.345576 ]\n",
      " state after 10days : [0.07693332 0.09688565 0.3362719  0.24330485 0.24660428]\n",
      " state after 1000days : [8.97378472e-28 1.13004326e-27 6.60595331e-01 3.39404669e-01\n",
      " 2.87688168e-27]\n",
      " state after 1001days : [8.44851901e-28 1.06389804e-27 6.60595331e-01 3.39404669e-01\n",
      " 2.70848815e-27]\n",
      "QUESTION 03\n",
      "Now we notice some change in probability distribution in states after 1000days and 1001days\n",
      "QUESTION 04\n",
      "MATRIX Q:\n",
      "[0.002 0.666 0.302]\n",
      "[0.466 0.102 0.38 ]\n",
      "[0.11  0.122 0.698]\n",
      "MATRIX R:\n",
      "[0.01 0.02]\n",
      "[0.02  0.032]\n",
      "[0.066 0.004]\n",
      "MATRIX I:\n",
      "[1. 0. 0.]\n",
      "[0. 1. 0.]\n",
      "[0. 0. 1.]\n",
      "MATRIX F:\n",
      "[4.0279365  4.26333958 9.39240352]\n",
      "[3.27006043 4.80437252 9.31529737]\n",
      "[ 2.78814698  3.49371126 10.49546579]\n",
      "MATRIX FR:\n",
      "[0.74544479 0.25455521]\n",
      "[0.74359768 0.25640232]\n",
      "[0.79045644 0.20954356]\n"
     ]
    }
   ],
   "source": [
    "print('01 :')\n",
    "print('no its not reducable as feedbak unit ot general crimes unit isnt accessable.')\n",
    "print('02 :')\n",
    "state_one=np.dot(state, trans_array)\n",
    "print(f' state after 1day : {state_one.squeeze()}')\n",
    "#After 2 day\n",
    "state_two=np.dot(state_one, trans_array)\n",
    "print(f' state after 1day : {state_two.squeeze()}')\n",
    "#After 10 days\n",
    "state_10 = state\n",
    "for _ in range(10):\n",
    "  state_10 = np.dot(state_10, trans_array)\n",
    "print(f' state after 10days : {state_10.squeeze()}')\n",
    "#After 1000days\n",
    "state_1000 = state\n",
    "for _ in range(1000):\n",
    "  state_1000 = np.dot(state_1000, trans_array)\n",
    "print(f' state after 1000days : {state_1000.squeeze()}')\n",
    "#After 1001 days\n",
    "state_1001=np.dot(state_1000,trans_array)\n",
    "print(f' state after 1001days : {state_1001.squeeze()}')\n",
    "\n",
    "print('QUESTION 03')\n",
    "print('Now we notice some change in probability distribution in states after 1000days and 1001days')\n",
    "\n",
    "print('QUESTION 04')\n",
    "Q=np.delete(np.delete(trans_array,[2,3],0),[2,3],1)\n",
    "print(f'MATRIX Q:\\n{Q[0]}\\n{Q[1]}\\n{Q[2]}')\n",
    "R=np.delete(np.delete(trans_array,[2,3],0),[0,1,4],1)\n",
    "print(f'MATRIX R:\\n{R[0]}\\n{R[1]}\\n{R[2]}')\n",
    "I=np.eye(3)\n",
    "print(f'MATRIX I:\\n{I[0]}\\n{I[1]}\\n{I[2]}')\n",
    "F= np.linalg.inv(I-Q)\n",
    "print(f'MATRIX F:\\n{F[0]}\\n{F[1]}\\n{F[2]}')\n",
    "FR= F @ R\n",
    "print(f'MATRIX FR:\\n{FR[0]}\\n{FR[1]}\\n{FR[2]}')\n",
    "\n",
    "print(f'Probabilty: 0.25455')"
   ]
  },
  {
   "cell_type": "markdown",
   "metadata": {
    "id": "nyDYo_MvZNO-"
   },
   "source": [
    "##Problem 3 (4 points)\n",
    "\n",
    "It seems that there is a bug in **_Move-o-Tron 99_** which makes general crimes and feedback units as absorbing states. After updating the software of **_Move-o-Tron 99_**, Captain Holt wants to find out the effect that Amy Santiago has on the probability of a person giving feedback. So one matrix is generated including Santiago and the other one without. \n",
    "\n",
    "Matrix 1 (With Santiago)\n",
    "\n",
    "| |Major Crimes|Traffic|General crimes|Feedback|Theft|\n",
    "|---|---|---|---|---|---|\n",
    "|Major Crimes|0\\.002|0\\.232|0\\.31|0\\.434|0\\.022|\n",
    "|Traffic|0\\.426|0\\.102|0\\.222|0\\.04|0\\.21|\n",
    "|General crimes|0\\.03|0\\.11|0\\.2|0\\.294|0\\.366|\n",
    "|Feedback|0\\.003|0\\.176|0\\.321|0\\.3|0\\.2|\n",
    "|Theft|0\\.11|0\\.422|0\\.166|0\\.1|0\\.202|\n",
    "\n",
    "Matrix 2 (Without Santiago)\n",
    "\n",
    "| |Major Crimes|Traffic|General crimes|Feedback|Theft|\n",
    "|---|---|---|---|---|---|\n",
    "|Major Crimes|0\\.11|0\\.222|0\\.092|0\\.374|0\\.202|\n",
    "|Traffic|0\\.03|0\\.11|0\\.2|0\\.294|0\\.366|\n",
    "|General crimes|0\\.002|0\\.232|0\\.31|0\\.434|0\\.022|\n",
    "|Feedback|0\\.466|0\\.102|0\\.02|0\\.032|0\\.38|\n",
    "|Theft|0\\.003|0\\.176|0\\.321|0\\.3|0\\.2|\n",
    "\n",
    "<br>\n",
    "\n",
    "1. How can you find out the effect that Santiago has on the probability of feedback? (1 point)\n",
    "\n",
    "2. What effect does Santiago have one the probability of getting feedback? (1 point)\n",
    "\n",
    "    Note: The initial probablity of a person going to a particular unit on a particular day remains the same\n",
    "\n",
    "3. Name the test Captain Holt is performing. (0.5 points)\n",
    "\n",
    "Lina Ginetti reports to Captain Holt that the there two kinds of days in the precicnt _\"There are normal days and then there are days where workflow is dismal with a tiny dash of pathetic.\"_. Captain Holt decided to sample the initial probablity of a person going to a particular unit on a good day and a bad day.\n",
    "\n",
    "4. Without the information about these inital probabilities, can you tell if there is any difference in the probability of getting a feedback? Explain. (1.5 points)\n",
    "\n"
   ]
  },
  {
   "cell_type": "code",
   "execution_count": 4,
   "metadata": {
    "id": "KYvJfAKIigsp"
   },
   "outputs": [],
   "source": [
    "# encoding the probabilities as a numpy array\n",
    "# With Santiago\n",
    "trans_array_with_amy = np.array([\n",
    "    [0.002, 0.232, 0.31, 0.434, 0.022],\n",
    "    [0.426, 0.102, 0.222, 0.04, 0.21],\n",
    "    [0.03, 0.11, 0.20, 0.294, 0.366],\n",
    "    [0.003, 0.176, 0.321, 0.3, 0.2],\n",
    "    [0.11, 0.422, 0.166, 0.1, 0.202]\n",
    "])\n",
    "\n",
    "# Without Santiago\n",
    "trans_array_without_amy = np.array([\n",
    "    [0.11, 0.222, 0.092, 0.374, 0.202],\n",
    "    [0.03, 0.11, 0.20, 0.294, 0.366],\n",
    "    [0.002, 0.232, 0.31, 0.434, 0.022],\n",
    "    [0.466, 0.102, 0.02, 0.032, 0.38],\n",
    "    [0.003, 0.176, 0.321, 0.3, 0.2]\n",
    "])\n",
    "\n",
    "# ensures that the probabilities sum to 1\n",
    "assert(trans_array_with_amy[0].sum() == 1.0)\n",
    "assert(trans_array_with_amy[1].sum() == 1.0)\n",
    "assert(trans_array_with_amy[2].sum() == 1.0)\n",
    "assert(trans_array_with_amy[3].sum() == 1.0)\n",
    "assert(trans_array_with_amy[4].sum() == 1.0)\n",
    "\n",
    "assert(trans_array_without_amy[0].sum() == 1.0)\n",
    "assert(trans_array_without_amy[1].sum() == 1.0)\n",
    "assert(trans_array_without_amy[2].sum() == 1.0)\n",
    "assert(trans_array_without_amy[3].sum() == 1.0)\n",
    "assert(trans_array_without_amy[4].sum() == 1.0)\n",
    "\n",
    "# encoding the initial probability of as a numpy array\n",
    "state = np.array([[0.3, 0.4, 0.1, 0.15, 0.05]])\n",
    "assert(state[0].sum() == 1.0)\n"
   ]
  },
  {
   "cell_type": "code",
   "execution_count": 32,
   "metadata": {
    "colab": {
     "base_uri": "https://localhost:8080/",
     "height": 0
    },
    "id": "B9y54XdvgcvM",
    "outputId": "ae43ff54-784e-465a-ed55-c1c4c8d19d86"
   },
   "outputs": [
    {
     "name": "stdout",
     "output_type": "stream",
     "text": [
      "QUESTION 01\n",
      "Find the Stationary Distribution of each of the transition matrix and then comparing the corresponding probability\n",
      "QUESTION 02\n",
      "Varient with including Amy Santiango\n",
      "\t state after 1000days = [0.12001975 0.20607988 0.23649985 0.21700347 0.22039705]\n",
      "\t state after 1001days = [0.12001975 0.20607988 0.23649985 0.21700347 0.22039705]\n",
      "Varient without including Amy Santiango\n",
      "\t state after 1000days = [0.14495178 0.16283362 0.18658671 0.26400004 0.24162786]\n",
      "\t state after 1001days = [0.14495178 0.16283362 0.18658671 0.26400004 0.24162786]\n",
      "0.21700346817098676 is lesser than 0.2640000386809766 \n",
      "Hence, probablity of getting a feedback with amy santiago working is lesser than without amy\n",
      "QUESTION 03\n",
      "AB TESTING\n",
      "QUESTION 04\n",
      "Yes,stationary distribution does not depend on the initial states. so there is no difference in the probability of getting a feedback\n"
     ]
    }
   ],
   "source": [
    "print('QUESTION 01')\n",
    "print(f'Find the Stationary Distribution of each of the transition matrix and then comparing the corresponding probability')\n",
    "print('QUESTION 02')\n",
    "\n",
    "print('Varient with including Amy Santiango')\n",
    "state_1000_with_amy =state\n",
    "for _ in range(1000):\n",
    "  state_1000_with_amy = np.dot(state_1000_with_amy , trans_array_with_amy)\n",
    "print(f'\\t state after 1000days = {state_1000_with_amy.squeeze()}')\n",
    "state_1001_with_amy = np.dot(state_1000_with_amy , trans_array_with_amy)\n",
    "print(f'\\t state after 1001days = {state_1001_with_amy.squeeze()}')\n",
    "\n",
    "\n",
    "print('Varient without including Amy Santiango')\n",
    "\n",
    "state_1000_without_amy =state\n",
    "for _ in range(1000):\n",
    "  state_1000_without_amy = np.dot(state_1000_without_amy , trans_array_without_amy)\n",
    "print(f'\\t state after 1000days = {state_1000_without_amy.squeeze()}')\n",
    "state_1001_without_amy = np.dot(state_1000_without_amy , trans_array_without_amy)\n",
    "print(f'\\t state after 1001days = {state_1001_without_amy.squeeze()}')\n",
    "\n",
    "\n",
    "\n",
    "print(f'{state_1000_with_amy.squeeze()[3]} is lesser than {state_1000_without_amy.squeeze()[3]} ')\n",
    "print('Hence, probablity of getting a feedback with amy santiago working is lesser than without amy')\n",
    "\n",
    "print('QUESTION 03')\n",
    "print('AB TESTING')\n",
    "\n",
    "print('QUESTION 04')\n",
    "print('Yes,stationary distribution does not depend on the initial states. so there is no difference in the probability of getting a feedback')\n"
   ]
  }
 ],
 "metadata": {
  "colab": {
   "provenance": []
  },
  "kernelspec": {
   "display_name": "Python 3 (ipykernel)",
   "language": "python",
   "name": "python3"
  },
  "language_info": {
   "codemirror_mode": {
    "name": "ipython",
    "version": 3
   },
   "file_extension": ".py",
   "mimetype": "text/x-python",
   "name": "python",
   "nbconvert_exporter": "python",
   "pygments_lexer": "ipython3",
   "version": "3.9.12"
  }
 },
 "nbformat": 4,
 "nbformat_minor": 1
}
